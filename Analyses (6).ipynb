{
 "cells": [
  {
   "cell_type": "code",
   "execution_count": 13,
   "id": "13c60e54",
   "metadata": {},
   "outputs": [
    {
     "name": "stdout",
     "output_type": "stream",
     "text": [
      "hi\n",
      "Optimization terminated successfully.\n",
      "         Current function value: 0.491607\n",
      "         Iterations 6\n",
      "\n",
      " Feature Selection\n",
      "==============================================================================\n",
      "             CI 95%(2.5%)  CI 95%(97.5%)  Odds Ratio  pvalue\n",
      "RestingBP        1.002534       1.018431    1.010451    0.01\n",
      "Age              1.012552       1.045532    1.028910    0.00\n",
      "Cholesterol      0.994566       0.997862    0.996213    0.00\n",
      "MaxHR            0.973579       0.984346    0.978947    0.00\n",
      "Oldpeak          2.158750       3.137526    2.602525    0.00\n",
      "FastingBS        2.136845       4.978849    3.261753    0.00\n",
      "==============================================================================\n",
      "                           Logit Regression Results                           \n",
      "==============================================================================\n",
      "Dep. Variable:           HeartDisease   No. Observations:                  918\n",
      "Model:                          Logit   Df Residuals:                      912\n",
      "Method:                           MLE   Df Model:                            5\n",
      "Date:                Mon, 08 Nov 2021   Pseudo R-squ.:                  0.2849\n",
      "Time:                        23:41:13   Log-Likelihood:                -451.29\n",
      "converged:                       True   LL-Null:                       -631.07\n",
      "Covariance Type:            nonrobust   LLR p-value:                 1.540e-75\n",
      "===============================================================================\n",
      "                  coef    std err          z      P>|z|      [0.025      0.975]\n",
      "-------------------------------------------------------------------------------\n",
      "RestingBP       0.0104      0.004      2.591      0.010       0.003       0.018\n",
      "Age             0.0285      0.008      3.485      0.000       0.012       0.045\n",
      "Cholesterol    -0.0038      0.001     -4.496      0.000      -0.005      -0.002\n",
      "MaxHR          -0.0213      0.003     -7.583      0.000      -0.027      -0.016\n",
      "Oldpeak         0.9565      0.095     10.028      0.000       0.770       1.143\n",
      "FastingBS       1.1823      0.216      5.479      0.000       0.759       1.605\n",
      "===============================================================================\n",
      "Features and target label determination\n",
      "\n",
      "Accuracy of logistic regression classifier on test Data set is : 86.96 %\n",
      "Precision of logistic regression classifier on test Data set is : 96 %\n",
      "Recall of logistic regression classifier on test Data set is : 82 %\n",
      "\n",
      "Confusion Matrix:\n",
      "[[33  2]\n",
      " [10 47]]\n",
      "\n",
      " Classification Report:\n",
      "              precision    recall  f1-score   support\n",
      "\n",
      "           0       0.77      0.94      0.85        35\n",
      "           1       0.96      0.82      0.89        57\n",
      "\n",
      "    accuracy                           0.87        92\n",
      "   macro avg       0.86      0.88      0.87        92\n",
      "weighted avg       0.89      0.87      0.87        92\n",
      "\n"
     ]
    },
    {
     "data": {
      "image/png": "[encoded data removed]",
      "text/plain": [
       "<Figure size 576x360 with 2 Axes>"
      ]
     },
     "metadata": {
      "needs_background": "light"
     },
     "output_type": "display_data"
    },
    {
     "data": {
      "image/png": "[encoded data removed]",
      "text/plain": [
       "<Figure size 432x288 with 1 Axes>"
      ]
     },
     "metadata": {
      "needs_background": "light"
     },
     "output_type": "display_data"
    },
    {
     "name": "stdout",
     "output_type": "stream",
     "text": [
      "\n",
      " **** Thank You ****\n"
     ]
    }
   ],
   "source": [
    "import matplotlib.pyplot as plt\n",
    "import pandas as pd\n",
    "import numpy as np\n",
    "from sklearn.model_selection import train_test_split\n",
    "import seaborn as sns\n",
    "import sklearn\n",
    "\n",
    "print (\"Hi, This is the Jupyter Notebook file\")\n",
    "\n",
    "heart_data = pd.read_csv ( 'C:\\\\Users\\\\allwy\\\\OneDrive\\\\Desktop\\\\Big_Data_Project_Report\\\\heart.csv' )\n",
    "\n",
    "cols = ['RestingBP' , 'Age' , 'Cholesterol' , 'MaxHR' , 'Oldpeak' , 'FastingBS']\n",
    "X = heart_data[cols]\n",
    "y = heart_data['HeartDisease']\n",
    "import statsmodels.api as sm\n",
    "\n",
    "# print(X)\n",
    "# print(y)\n",
    "logit_model = sm.Logit ( y , X )\n",
    "result = logit_model.fit ( )\n",
    "print ( \"\\n Feature Selection\" )\n",
    "print ( \"==============================================================================\" )\n",
    "params = np.exp ( result.params )\n",
    "conf = np.exp ( result.conf_int ( ) )\n",
    "conf['OR'] = params\n",
    "pvalue = round ( result.pvalues , 2 )\n",
    "conf['pvalue'] = pvalue\n",
    "conf.columns = ['CI 95%(2.5%)' , 'CI 95%(97.5%)' , 'Odds Ratio' , 'pvalue']\n",
    "print ( (conf) )\n",
    "print ( \"==============================================================================\" )\n",
    "print ( result.summary ( ) )\n",
    "\n",
    "print ( \"Features and target label determination\" )\n",
    "from sklearn.linear_model import LogisticRegression\n",
    "\n",
    "X_train , X_test , y_train , y_test = train_test_split ( X , y , test_size=0.1, random_state=3)\n",
    "logreg = LogisticRegression ( )\n",
    "logreg.fit ( X_train , y_train )\n",
    "y_pred = logreg.predict ( X_test )\n",
    "print ( '\\nAccuracy of logistic regression classifier on test Data set is : {:.2f}'.format (\n",
    "    logreg.score ( X_test , y_test ) * 100 ) , \"%\" )\n",
    "from sklearn import metrics\n",
    "print(\"Precision of logistic regression classifier on test Data set is :\",round((metrics.precision_score(y_test, y_pred))*100) , \"%\" )\n",
    "print(\"Recall of logistic regression classifier on test Data set is :\",round((metrics.recall_score(y_test, y_pred))*100) , \"%\" )\n",
    "\n",
    "from sklearn.metrics import confusion_matrix\n",
    "\n",
    "confusion_matrix = confusion_matrix ( y_test , y_pred )\n",
    "conf_matrix = pd.DataFrame ( data=confusion_matrix , columns=['Predicted:0' , 'Predicted:1'] ,\n",
    "                             index=['Actual:0' , 'Actual:1'] )\n",
    "plt.figure ( figsize=(8 , 5) )\n",
    "sns.heatmap ( conf_matrix , annot=True , fmt='d' , cmap=\"YlGnBu\" )\n",
    "print ( \"\\nConfusion Matrix:\" )\n",
    "print ( confusion_matrix )\n",
    "\n",
    "from sklearn.metrics import classification_report\n",
    "\n",
    "print ( \"\\n Classification Report:\" )\n",
    "print ( classification_report ( y_test , y_pred ) )\n",
    "\n",
    "from sklearn.metrics import roc_auc_score\n",
    "from sklearn.metrics import roc_curve\n",
    "\n",
    "logit_roc_auc = roc_auc_score ( y_test , logreg.predict ( X_test ) )\n",
    "fpr , tpr , thresholds = roc_curve ( y_test , logreg.predict_proba ( X_test )[: , 1] )\n",
    "plt.figure ( )\n",
    "plt.plot ( fpr , tpr , label='Calculated Logistic Regression (area = %0.2f)' % logit_roc_auc )\n",
    "plt.plot ( [0 , 1] , [0 , 1] , 'r--' )\n",
    "plt.xlim ( [0.0 , 1.0] )\n",
    "plt.ylim ( [0.0 , 1.05] )\n",
    "plt.xlabel ( 'False Positives' )\n",
    "plt.ylabel ( 'True Positives' )\n",
    "plt.title ( 'Receiver operating characteristic' )\n",
    "plt.legend ( loc=\"lower right\" )\n",
    "plt.savefig ( 'Log_ROC' )\n",
    "plt.show ( )\n",
    "\n",
    "print ( \"\\n **** Thank You ****\" )\n"
   ]
  },
  {
   "cell_type": "code",
   "execution_count": 8,
   "id": "2a125d85",
   "metadata": {},
   "outputs": [],
   "source": [
    "# "
   ]
  },
  {
   "cell_type": "code",
   "execution_count": null,
   "id": "61221821",
   "metadata": {},
   "outputs": [],
   "source": []
  }
 ],
 "metadata": {
  "kernelspec": {
   "display_name": "Python 3",
   "language": "python",
   "name": "python3"
  },
  "language_info": {
   "codemirror_mode": {
    "name": "ipython",
    "version": 3
   },
   "file_extension": ".py",
   "mimetype": "text/x-python",
   "name": "python",
   "nbconvert_exporter": "python",
   "pygments_lexer": "ipython3",
   "version": "3.8.8"
  }
 },
 "nbformat": 4,
 "nbformat_minor": 5
}
